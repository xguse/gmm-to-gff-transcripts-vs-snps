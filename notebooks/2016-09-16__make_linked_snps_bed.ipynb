{
 "cells": [
  {
   "cell_type": "markdown",
   "metadata": {},
   "source": [
    "# Imports"
   ]
  },
  {
   "cell_type": "code",
   "execution_count": 1,
   "metadata": {
    "collapsed": true
   },
   "outputs": [],
   "source": [
    "import pandas as pd"
   ]
  },
  {
   "cell_type": "markdown",
   "metadata": {},
   "source": [
    "# Paths"
   ]
  },
  {
   "cell_type": "code",
   "execution_count": 3,
   "metadata": {
    "collapsed": true
   },
   "outputs": [],
   "source": [
    "snps_ = '../data/processed/gmm_to_gff_testing_filterPSL_100bp_local/get_linked_snps/MS.list.geno.ld'"
   ]
  },
  {
   "cell_type": "markdown",
   "metadata": {},
   "source": [
    "# Functions"
   ]
  },
  {
   "cell_type": "markdown",
   "metadata": {},
   "source": [
    "# Loading"
   ]
  },
  {
   "cell_type": "code",
   "execution_count": 4,
   "metadata": {
    "collapsed": false
   },
   "outputs": [],
   "source": [
    "snps = pd.read_csv(snps_, sep='\\t')"
   ]
  },
  {
   "cell_type": "code",
   "execution_count": 5,
   "metadata": {
    "collapsed": false
   },
   "outputs": [
    {
     "data": {
      "text/html": [
       "<div>\n",
       "<table border=\"1\" class=\"dataframe\">\n",
       "  <thead>\n",
       "    <tr style=\"text-align: right;\">\n",
       "      <th></th>\n",
       "      <th>CHR1</th>\n",
       "      <th>POS1</th>\n",
       "      <th>CHR2</th>\n",
       "      <th>POS2</th>\n",
       "      <th>N_INDV</th>\n",
       "      <th>R^2</th>\n",
       "    </tr>\n",
       "  </thead>\n",
       "  <tbody>\n",
       "    <tr>\n",
       "      <th>0</th>\n",
       "      <td>Scaffold768</td>\n",
       "      <td>20355</td>\n",
       "      <td>Scaffold768</td>\n",
       "      <td>18397</td>\n",
       "      <td>10</td>\n",
       "      <td>0.363636</td>\n",
       "    </tr>\n",
       "    <tr>\n",
       "      <th>1</th>\n",
       "      <td>Scaffold52</td>\n",
       "      <td>675280</td>\n",
       "      <td>Scaffold52</td>\n",
       "      <td>673521</td>\n",
       "      <td>12</td>\n",
       "      <td>0.301205</td>\n",
       "    </tr>\n",
       "    <tr>\n",
       "      <th>2</th>\n",
       "      <td>Scaffold52</td>\n",
       "      <td>675280</td>\n",
       "      <td>Scaffold52</td>\n",
       "      <td>675277</td>\n",
       "      <td>12</td>\n",
       "      <td>0.444444</td>\n",
       "    </tr>\n",
       "    <tr>\n",
       "      <th>3</th>\n",
       "      <td>Scaffold144</td>\n",
       "      <td>488475</td>\n",
       "      <td>Scaffold144</td>\n",
       "      <td>485634</td>\n",
       "      <td>12</td>\n",
       "      <td>0.714286</td>\n",
       "    </tr>\n",
       "    <tr>\n",
       "      <th>4</th>\n",
       "      <td>Scaffold144</td>\n",
       "      <td>488475</td>\n",
       "      <td>Scaffold144</td>\n",
       "      <td>485721</td>\n",
       "      <td>12</td>\n",
       "      <td>0.714286</td>\n",
       "    </tr>\n",
       "    <tr>\n",
       "      <th>5</th>\n",
       "      <td>Scaffold3</td>\n",
       "      <td>2235178</td>\n",
       "      <td>Scaffold3</td>\n",
       "      <td>2238252</td>\n",
       "      <td>12</td>\n",
       "      <td>1.000000</td>\n",
       "    </tr>\n",
       "    <tr>\n",
       "      <th>6</th>\n",
       "      <td>Scaffold27</td>\n",
       "      <td>959995</td>\n",
       "      <td>Scaffold27</td>\n",
       "      <td>960005</td>\n",
       "      <td>12</td>\n",
       "      <td>1.000000</td>\n",
       "    </tr>\n",
       "    <tr>\n",
       "      <th>7</th>\n",
       "      <td>Scaffold27</td>\n",
       "      <td>959995</td>\n",
       "      <td>Scaffold27</td>\n",
       "      <td>960392</td>\n",
       "      <td>12</td>\n",
       "      <td>0.862069</td>\n",
       "    </tr>\n",
       "    <tr>\n",
       "      <th>8</th>\n",
       "      <td>Scaffold27</td>\n",
       "      <td>959995</td>\n",
       "      <td>Scaffold27</td>\n",
       "      <td>960394</td>\n",
       "      <td>12</td>\n",
       "      <td>0.818182</td>\n",
       "    </tr>\n",
       "    <tr>\n",
       "      <th>9</th>\n",
       "      <td>Scaffold27</td>\n",
       "      <td>959995</td>\n",
       "      <td>Scaffold27</td>\n",
       "      <td>960409</td>\n",
       "      <td>12</td>\n",
       "      <td>0.862069</td>\n",
       "    </tr>\n",
       "    <tr>\n",
       "      <th>10</th>\n",
       "      <td>Scaffold27</td>\n",
       "      <td>959995</td>\n",
       "      <td>Scaffold27</td>\n",
       "      <td>960410</td>\n",
       "      <td>12</td>\n",
       "      <td>0.862069</td>\n",
       "    </tr>\n",
       "    <tr>\n",
       "      <th>11</th>\n",
       "      <td>Scaffold53</td>\n",
       "      <td>1038018</td>\n",
       "      <td>Scaffold53</td>\n",
       "      <td>1037125</td>\n",
       "      <td>12</td>\n",
       "      <td>0.235294</td>\n",
       "    </tr>\n",
       "    <tr>\n",
       "      <th>12</th>\n",
       "      <td>Scaffold13</td>\n",
       "      <td>1931613</td>\n",
       "      <td>Scaffold13</td>\n",
       "      <td>1931633</td>\n",
       "      <td>12</td>\n",
       "      <td>0.642857</td>\n",
       "    </tr>\n",
       "    <tr>\n",
       "      <th>13</th>\n",
       "      <td>Scaffold13</td>\n",
       "      <td>1931613</td>\n",
       "      <td>Scaffold13</td>\n",
       "      <td>1932023</td>\n",
       "      <td>12</td>\n",
       "      <td>0.500000</td>\n",
       "    </tr>\n",
       "    <tr>\n",
       "      <th>14</th>\n",
       "      <td>Scaffold673</td>\n",
       "      <td>56056</td>\n",
       "      <td>Scaffold673</td>\n",
       "      <td>54924</td>\n",
       "      <td>9</td>\n",
       "      <td>0.228571</td>\n",
       "    </tr>\n",
       "  </tbody>\n",
       "</table>\n",
       "</div>"
      ],
      "text/plain": [
       "           CHR1     POS1         CHR2     POS2  N_INDV       R^2\n",
       "0   Scaffold768    20355  Scaffold768    18397      10  0.363636\n",
       "1    Scaffold52   675280   Scaffold52   673521      12  0.301205\n",
       "2    Scaffold52   675280   Scaffold52   675277      12  0.444444\n",
       "3   Scaffold144   488475  Scaffold144   485634      12  0.714286\n",
       "4   Scaffold144   488475  Scaffold144   485721      12  0.714286\n",
       "5     Scaffold3  2235178    Scaffold3  2238252      12  1.000000\n",
       "6    Scaffold27   959995   Scaffold27   960005      12  1.000000\n",
       "7    Scaffold27   959995   Scaffold27   960392      12  0.862069\n",
       "8    Scaffold27   959995   Scaffold27   960394      12  0.818182\n",
       "9    Scaffold27   959995   Scaffold27   960409      12  0.862069\n",
       "10   Scaffold27   959995   Scaffold27   960410      12  0.862069\n",
       "11   Scaffold53  1038018   Scaffold53  1037125      12  0.235294\n",
       "12   Scaffold13  1931613   Scaffold13  1931633      12  0.642857\n",
       "13   Scaffold13  1931613   Scaffold13  1932023      12  0.500000\n",
       "14  Scaffold673    56056  Scaffold673    54924       9  0.228571"
      ]
     },
     "execution_count": 5,
     "metadata": {},
     "output_type": "execute_result"
    }
   ],
   "source": [
    "snps"
   ]
  },
  {
   "cell_type": "markdown",
   "metadata": {},
   "source": [
    "# Work"
   ]
  },
  {
   "cell_type": "code",
   "execution_count": 7,
   "metadata": {
    "collapsed": false
   },
   "outputs": [
    {
     "data": {
      "text/html": [
       "<div>\n",
       "<table border=\"1\" class=\"dataframe\">\n",
       "  <thead>\n",
       "    <tr style=\"text-align: right;\">\n",
       "      <th></th>\n",
       "      <th>CHR2</th>\n",
       "      <th>start</th>\n",
       "      <th>POS2</th>\n",
       "    </tr>\n",
       "  </thead>\n",
       "  <tbody>\n",
       "    <tr>\n",
       "      <th>0</th>\n",
       "      <td>Scaffold768</td>\n",
       "      <td>18396</td>\n",
       "      <td>18397</td>\n",
       "    </tr>\n",
       "    <tr>\n",
       "      <th>1</th>\n",
       "      <td>Scaffold52</td>\n",
       "      <td>673520</td>\n",
       "      <td>673521</td>\n",
       "    </tr>\n",
       "    <tr>\n",
       "      <th>2</th>\n",
       "      <td>Scaffold52</td>\n",
       "      <td>675276</td>\n",
       "      <td>675277</td>\n",
       "    </tr>\n",
       "    <tr>\n",
       "      <th>3</th>\n",
       "      <td>Scaffold144</td>\n",
       "      <td>485633</td>\n",
       "      <td>485634</td>\n",
       "    </tr>\n",
       "    <tr>\n",
       "      <th>4</th>\n",
       "      <td>Scaffold144</td>\n",
       "      <td>485720</td>\n",
       "      <td>485721</td>\n",
       "    </tr>\n",
       "    <tr>\n",
       "      <th>5</th>\n",
       "      <td>Scaffold3</td>\n",
       "      <td>2238251</td>\n",
       "      <td>2238252</td>\n",
       "    </tr>\n",
       "    <tr>\n",
       "      <th>6</th>\n",
       "      <td>Scaffold27</td>\n",
       "      <td>960004</td>\n",
       "      <td>960005</td>\n",
       "    </tr>\n",
       "    <tr>\n",
       "      <th>7</th>\n",
       "      <td>Scaffold27</td>\n",
       "      <td>960391</td>\n",
       "      <td>960392</td>\n",
       "    </tr>\n",
       "    <tr>\n",
       "      <th>8</th>\n",
       "      <td>Scaffold27</td>\n",
       "      <td>960393</td>\n",
       "      <td>960394</td>\n",
       "    </tr>\n",
       "    <tr>\n",
       "      <th>9</th>\n",
       "      <td>Scaffold27</td>\n",
       "      <td>960408</td>\n",
       "      <td>960409</td>\n",
       "    </tr>\n",
       "    <tr>\n",
       "      <th>10</th>\n",
       "      <td>Scaffold27</td>\n",
       "      <td>960409</td>\n",
       "      <td>960410</td>\n",
       "    </tr>\n",
       "    <tr>\n",
       "      <th>11</th>\n",
       "      <td>Scaffold53</td>\n",
       "      <td>1037124</td>\n",
       "      <td>1037125</td>\n",
       "    </tr>\n",
       "    <tr>\n",
       "      <th>12</th>\n",
       "      <td>Scaffold13</td>\n",
       "      <td>1931632</td>\n",
       "      <td>1931633</td>\n",
       "    </tr>\n",
       "    <tr>\n",
       "      <th>13</th>\n",
       "      <td>Scaffold13</td>\n",
       "      <td>1932022</td>\n",
       "      <td>1932023</td>\n",
       "    </tr>\n",
       "    <tr>\n",
       "      <th>14</th>\n",
       "      <td>Scaffold673</td>\n",
       "      <td>54923</td>\n",
       "      <td>54924</td>\n",
       "    </tr>\n",
       "  </tbody>\n",
       "</table>\n",
       "</div>"
      ],
      "text/plain": [
       "           CHR2    start     POS2\n",
       "0   Scaffold768    18396    18397\n",
       "1    Scaffold52   673520   673521\n",
       "2    Scaffold52   675276   675277\n",
       "3   Scaffold144   485633   485634\n",
       "4   Scaffold144   485720   485721\n",
       "5     Scaffold3  2238251  2238252\n",
       "6    Scaffold27   960004   960005\n",
       "7    Scaffold27   960391   960392\n",
       "8    Scaffold27   960393   960394\n",
       "9    Scaffold27   960408   960409\n",
       "10   Scaffold27   960409   960410\n",
       "11   Scaffold53  1037124  1037125\n",
       "12   Scaffold13  1931632  1931633\n",
       "13   Scaffold13  1932022  1932023\n",
       "14  Scaffold673    54923    54924"
      ]
     },
     "execution_count": 7,
     "metadata": {},
     "output_type": "execute_result"
    }
   ],
   "source": [
    "snps['start'] = snps.POS2 - 1\n",
    "bed = snps[['CHR2','start','POS2']]\n",
    "bed"
   ]
  },
  {
   "cell_type": "code",
   "execution_count": null,
   "metadata": {
    "collapsed": true
   },
   "outputs": [],
   "source": []
  }
 ],
 "metadata": {
  "hide_input": false,
  "kernelspec": {
   "display_name": "gmmgff",
   "language": "python",
   "name": "gmmgff"
  },
  "language_info": {
   "codemirror_mode": {
    "name": "ipython",
    "version": 3
   },
   "file_extension": ".py",
   "mimetype": "text/x-python",
   "name": "python",
   "nbconvert_exporter": "python",
   "pygments_lexer": "ipython3",
   "version": "3.5.2"
  },
  "toc": {
   "toc_cell": false,
   "toc_number_sections": true,
   "toc_threshold": 6,
   "toc_window_display": false
  }
 },
 "nbformat": 4,
 "nbformat_minor": 0
}
