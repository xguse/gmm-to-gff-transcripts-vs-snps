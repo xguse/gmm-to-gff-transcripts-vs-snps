{
 "cells": [
  {
   "cell_type": "markdown",
   "metadata": {},
   "source": [
    "# Prep"
   ]
  },
  {
   "cell_type": "markdown",
   "metadata": {},
   "source": [
    "## Imports"
   ]
  },
  {
   "cell_type": "code",
   "execution_count": 1,
   "metadata": {
    "collapsed": true
   },
   "outputs": [],
   "source": [
    "import pandas as pd"
   ]
  },
  {
   "cell_type": "markdown",
   "metadata": {},
   "source": [
    "## Paths"
   ]
  },
  {
   "cell_type": "code",
   "execution_count": 2,
   "metadata": {
    "collapsed": true
   },
   "outputs": [],
   "source": [
    "linked_ = '../data/processed/gmm_to_gff_testing_filterPSL_100bp_local/get_nearest_k_features/MS_NB_OT.linked.snps_in_features.xls'\n",
    "orig_ = '../data/processed/gmm_to_gff_testing_filterPSL_100bp_local/get_nearest_k_features/MS_NB_OT.original.snps_in_features.xls'"
   ]
  },
  {
   "cell_type": "markdown",
   "metadata": {},
   "source": [
    "## Constants"
   ]
  },
  {
   "cell_type": "code",
   "execution_count": 3,
   "metadata": {
    "collapsed": true
   },
   "outputs": [],
   "source": [
    "distance = 5000"
   ]
  },
  {
   "cell_type": "markdown",
   "metadata": {},
   "source": [
    "## Functions"
   ]
  },
  {
   "cell_type": "code",
   "execution_count": 4,
   "metadata": {
    "collapsed": false
   },
   "outputs": [],
   "source": [
    "def filter_by_distance(df, d=5000):\n",
    "    return df.query(\"\"\" abs(distance) <= {d} \"\"\".format(d=d))\n",
    "\n",
    "def set_comparison_table(a, b, a_name=None, b_name=None):\n",
    "    a = set(a)\n",
    "    b = set(b)\n",
    "    \n",
    "    data = [pd.Series((sorted(list(a & b))),name='{a} AND {b}'.format(a=a_name,b=b_name)),\n",
    "            pd.Series((sorted(list(a - b))),name='{a} NOT {b}'.format(a=a_name,b=b_name)),\n",
    "            pd.Series((sorted(list(b - a))),name='{b} NOT {a}'.format(a=a_name,b=b_name)),\n",
    "            pd.Series((sorted(list(a | b))),name='{a} OR {b}'.format(a=a_name,b=b_name)),\n",
    "            pd.Series((sorted(list(a ^ b))),name='one OR other NOT both'),]\n",
    "    \n",
    "    df = pd.DataFrame(data).T\n",
    "    counts = pd.DataFrame(df.count(),columns=['count'])\n",
    "    \n",
    "    return {'genes':df, 'counts':counts}\n",
    "    \n",
    "    \n",
    "    "
   ]
  },
  {
   "cell_type": "markdown",
   "metadata": {},
   "source": [
    "## Loading"
   ]
  },
  {
   "cell_type": "code",
   "execution_count": 5,
   "metadata": {
    "collapsed": false
   },
   "outputs": [],
   "source": [
    "linked = pd.read_excel(linked_)\n",
    "orig = pd.read_excel(orig_)"
   ]
  },
  {
   "cell_type": "code",
   "execution_count": 6,
   "metadata": {
    "collapsed": false
   },
   "outputs": [
    {
     "data": {
      "text/html": [
       "<div>\n",
       "<table border=\"1\" class=\"dataframe\">\n",
       "  <thead>\n",
       "    <tr style=\"text-align: right;\">\n",
       "      <th></th>\n",
       "      <th>SNP_chrom</th>\n",
       "      <th>SNP_start</th>\n",
       "      <th>SNP_end</th>\n",
       "      <th>feature_set_name</th>\n",
       "      <th>chrom</th>\n",
       "      <th>chromStart</th>\n",
       "      <th>chromEnd</th>\n",
       "      <th>name</th>\n",
       "      <th>score</th>\n",
       "      <th>strand</th>\n",
       "      <th>thickStart</th>\n",
       "      <th>thickEnd</th>\n",
       "      <th>itemRgb</th>\n",
       "      <th>blockCount</th>\n",
       "      <th>blockSizes</th>\n",
       "      <th>blockStarts</th>\n",
       "      <th>distance</th>\n",
       "    </tr>\n",
       "  </thead>\n",
       "  <tbody>\n",
       "    <tr>\n",
       "      <th>0</th>\n",
       "      <td>Scaffold1004</td>\n",
       "      <td>18777</td>\n",
       "      <td>18778</td>\n",
       "      <td>official_annotations</td>\n",
       "      <td>Scaffold1004</td>\n",
       "      <td>32744</td>\n",
       "      <td>37536</td>\n",
       "      <td>GFUI001832</td>\n",
       "      <td>0</td>\n",
       "      <td>+</td>\n",
       "      <td>32744</td>\n",
       "      <td>37533</td>\n",
       "      <td>0,0,0</td>\n",
       "      <td>5</td>\n",
       "      <td>490,573,141,913,349</td>\n",
       "      <td>0,2369,2993,3467,4443</td>\n",
       "      <td>13967</td>\n",
       "    </tr>\n",
       "    <tr>\n",
       "      <th>1</th>\n",
       "      <td>Scaffold1262</td>\n",
       "      <td>1654</td>\n",
       "      <td>1655</td>\n",
       "      <td>.</td>\n",
       "      <td>.</td>\n",
       "      <td>-1</td>\n",
       "      <td>-1</td>\n",
       "      <td>.</td>\n",
       "      <td>-1</td>\n",
       "      <td>.</td>\n",
       "      <td>.</td>\n",
       "      <td>.</td>\n",
       "      <td>.</td>\n",
       "      <td>.</td>\n",
       "      <td>.</td>\n",
       "      <td>.</td>\n",
       "      <td>-1</td>\n",
       "    </tr>\n",
       "    <tr>\n",
       "      <th>2</th>\n",
       "      <td>Scaffold1262</td>\n",
       "      <td>3836</td>\n",
       "      <td>3837</td>\n",
       "      <td>.</td>\n",
       "      <td>.</td>\n",
       "      <td>-1</td>\n",
       "      <td>-1</td>\n",
       "      <td>.</td>\n",
       "      <td>-1</td>\n",
       "      <td>.</td>\n",
       "      <td>.</td>\n",
       "      <td>.</td>\n",
       "      <td>.</td>\n",
       "      <td>.</td>\n",
       "      <td>.</td>\n",
       "      <td>.</td>\n",
       "      <td>-1</td>\n",
       "    </tr>\n",
       "    <tr>\n",
       "      <th>3</th>\n",
       "      <td>Scaffold220</td>\n",
       "      <td>393448</td>\n",
       "      <td>393449</td>\n",
       "      <td>novel_mapped_tx</td>\n",
       "      <td>Scaffold220</td>\n",
       "      <td>356496</td>\n",
       "      <td>396965</td>\n",
       "      <td>TCONS_00067396</td>\n",
       "      <td>0</td>\n",
       "      <td>-</td>\n",
       "      <td>284569</td>\n",
       "      <td>405927</td>\n",
       "      <td>0,0,0</td>\n",
       "      <td>32</td>\n",
       "      <td>121,10,100,288,143,71,3,232,165,127,53,143,105...</td>\n",
       "      <td>284569,284691,284702,284803,288373,289823,2913...</td>\n",
       "      <td>0</td>\n",
       "    </tr>\n",
       "    <tr>\n",
       "      <th>4</th>\n",
       "      <td>Scaffold220</td>\n",
       "      <td>393448</td>\n",
       "      <td>393449</td>\n",
       "      <td>novel_mapped_tx</td>\n",
       "      <td>Scaffold220</td>\n",
       "      <td>402092</td>\n",
       "      <td>402510</td>\n",
       "      <td>TCONS_00067396</td>\n",
       "      <td>0</td>\n",
       "      <td>-</td>\n",
       "      <td>284569</td>\n",
       "      <td>405927</td>\n",
       "      <td>0,0,0</td>\n",
       "      <td>32</td>\n",
       "      <td>121,10,100,288,143,71,3,232,165,127,53,143,105...</td>\n",
       "      <td>284569,284691,284702,284803,288373,289823,2913...</td>\n",
       "      <td>8644</td>\n",
       "    </tr>\n",
       "  </tbody>\n",
       "</table>\n",
       "</div>"
      ],
      "text/plain": [
       "      SNP_chrom  SNP_start  SNP_end      feature_set_name         chrom  \\\n",
       "0  Scaffold1004      18777    18778  official_annotations  Scaffold1004   \n",
       "1  Scaffold1262       1654     1655                     .             .   \n",
       "2  Scaffold1262       3836     3837                     .             .   \n",
       "3   Scaffold220     393448   393449       novel_mapped_tx   Scaffold220   \n",
       "4   Scaffold220     393448   393449       novel_mapped_tx   Scaffold220   \n",
       "\n",
       "   chromStart  chromEnd            name  score strand thickStart thickEnd  \\\n",
       "0       32744     37536      GFUI001832      0      +      32744    37533   \n",
       "1          -1        -1               .     -1      .          .        .   \n",
       "2          -1        -1               .     -1      .          .        .   \n",
       "3      356496    396965  TCONS_00067396      0      -     284569   405927   \n",
       "4      402092    402510  TCONS_00067396      0      -     284569   405927   \n",
       "\n",
       "  itemRgb blockCount                                         blockSizes  \\\n",
       "0   0,0,0          5                                490,573,141,913,349   \n",
       "1       .          .                                                  .   \n",
       "2       .          .                                                  .   \n",
       "3   0,0,0         32  121,10,100,288,143,71,3,232,165,127,53,143,105...   \n",
       "4   0,0,0         32  121,10,100,288,143,71,3,232,165,127,53,143,105...   \n",
       "\n",
       "                                         blockStarts  distance  \n",
       "0                              0,2369,2993,3467,4443     13967  \n",
       "1                                                  .        -1  \n",
       "2                                                  .        -1  \n",
       "3  284569,284691,284702,284803,288373,289823,2913...         0  \n",
       "4  284569,284691,284702,284803,288373,289823,2913...      8644  "
      ]
     },
     "execution_count": 6,
     "metadata": {},
     "output_type": "execute_result"
    }
   ],
   "source": [
    "linked.head()"
   ]
  },
  {
   "cell_type": "code",
   "execution_count": 7,
   "metadata": {
    "collapsed": false
   },
   "outputs": [
    {
     "data": {
      "text/html": [
       "<div>\n",
       "<table border=\"1\" class=\"dataframe\">\n",
       "  <thead>\n",
       "    <tr style=\"text-align: right;\">\n",
       "      <th></th>\n",
       "      <th>SNP_chrom</th>\n",
       "      <th>SNP_start</th>\n",
       "      <th>SNP_end</th>\n",
       "      <th>feature_set_name</th>\n",
       "      <th>chrom</th>\n",
       "      <th>chromStart</th>\n",
       "      <th>chromEnd</th>\n",
       "      <th>name</th>\n",
       "      <th>score</th>\n",
       "      <th>strand</th>\n",
       "      <th>thickStart</th>\n",
       "      <th>thickEnd</th>\n",
       "      <th>itemRgb</th>\n",
       "      <th>blockCount</th>\n",
       "      <th>blockSizes</th>\n",
       "      <th>blockStarts</th>\n",
       "      <th>distance</th>\n",
       "    </tr>\n",
       "  </thead>\n",
       "  <tbody>\n",
       "    <tr>\n",
       "      <th>0</th>\n",
       "      <td>Scaffold13</td>\n",
       "      <td>1931632</td>\n",
       "      <td>1931633</td>\n",
       "      <td>novel_mapped_tx</td>\n",
       "      <td>Scaffold13</td>\n",
       "      <td>1890917</td>\n",
       "      <td>1895398</td>\n",
       "      <td>TCONS_00041588</td>\n",
       "      <td>0</td>\n",
       "      <td>-</td>\n",
       "      <td>1884154</td>\n",
       "      <td>1895586</td>\n",
       "      <td>0,0,0</td>\n",
       "      <td>20</td>\n",
       "      <td>147,59,13,131,39,17,48,121,62,1341,2182,1346,1...</td>\n",
       "      <td>1884154,1884302,1884365,1884378,1884513,188455...</td>\n",
       "      <td>-36235</td>\n",
       "    </tr>\n",
       "    <tr>\n",
       "      <th>1</th>\n",
       "      <td>Scaffold13</td>\n",
       "      <td>1931632</td>\n",
       "      <td>1931633</td>\n",
       "      <td>novel_mapped_tx</td>\n",
       "      <td>Scaffold13</td>\n",
       "      <td>1890917</td>\n",
       "      <td>1895398</td>\n",
       "      <td>TCONS_00041590</td>\n",
       "      <td>0</td>\n",
       "      <td>-</td>\n",
       "      <td>1885040</td>\n",
       "      <td>1895401</td>\n",
       "      <td>0,0,0</td>\n",
       "      <td>8</td>\n",
       "      <td>3399,1346,10,1109,651,346,4,13,</td>\n",
       "      <td>1885040,1888446,1889798,1889808,1894384,189503...</td>\n",
       "      <td>-36235</td>\n",
       "    </tr>\n",
       "    <tr>\n",
       "      <th>2</th>\n",
       "      <td>Scaffold13</td>\n",
       "      <td>1931632</td>\n",
       "      <td>1931633</td>\n",
       "      <td>novel_mapped_tx</td>\n",
       "      <td>Scaffold13</td>\n",
       "      <td>1890917</td>\n",
       "      <td>1895398</td>\n",
       "      <td>TCONS_00041591</td>\n",
       "      <td>0</td>\n",
       "      <td>-</td>\n",
       "      <td>1884154</td>\n",
       "      <td>1895401</td>\n",
       "      <td>0,0,0</td>\n",
       "      <td>18</td>\n",
       "      <td>147,59,13,131,39,17,48,121,62,1341,2182,1346,1...</td>\n",
       "      <td>1884154,1884302,1884365,1884378,1884513,188455...</td>\n",
       "      <td>-36235</td>\n",
       "    </tr>\n",
       "    <tr>\n",
       "      <th>3</th>\n",
       "      <td>Scaffold13</td>\n",
       "      <td>1931632</td>\n",
       "      <td>1931633</td>\n",
       "      <td>novel_mapped_tx</td>\n",
       "      <td>Scaffold13</td>\n",
       "      <td>1890917</td>\n",
       "      <td>1891292</td>\n",
       "      <td>TCONS_00041593</td>\n",
       "      <td>0</td>\n",
       "      <td>-</td>\n",
       "      <td>1884154</td>\n",
       "      <td>1891292</td>\n",
       "      <td>0,0,0</td>\n",
       "      <td>15</td>\n",
       "      <td>147,59,13,131,39,17,48,121,62,1341,2182,1346,1...</td>\n",
       "      <td>1884154,1884302,1884365,1884378,1884513,188455...</td>\n",
       "      <td>-40341</td>\n",
       "    </tr>\n",
       "    <tr>\n",
       "      <th>4</th>\n",
       "      <td>Scaffold13</td>\n",
       "      <td>1931632</td>\n",
       "      <td>1931633</td>\n",
       "      <td>novel_mapped_tx</td>\n",
       "      <td>Scaffold13</td>\n",
       "      <td>1884154</td>\n",
       "      <td>1885040</td>\n",
       "      <td>TCONS_00041588</td>\n",
       "      <td>0</td>\n",
       "      <td>-</td>\n",
       "      <td>1884154</td>\n",
       "      <td>1895586</td>\n",
       "      <td>0,0,0</td>\n",
       "      <td>20</td>\n",
       "      <td>147,59,13,131,39,17,48,121,62,1341,2182,1346,1...</td>\n",
       "      <td>1884154,1884302,1884365,1884378,1884513,188455...</td>\n",
       "      <td>-46593</td>\n",
       "    </tr>\n",
       "  </tbody>\n",
       "</table>\n",
       "</div>"
      ],
      "text/plain": [
       "    SNP_chrom  SNP_start  SNP_end feature_set_name       chrom  chromStart  \\\n",
       "0  Scaffold13    1931632  1931633  novel_mapped_tx  Scaffold13     1890917   \n",
       "1  Scaffold13    1931632  1931633  novel_mapped_tx  Scaffold13     1890917   \n",
       "2  Scaffold13    1931632  1931633  novel_mapped_tx  Scaffold13     1890917   \n",
       "3  Scaffold13    1931632  1931633  novel_mapped_tx  Scaffold13     1890917   \n",
       "4  Scaffold13    1931632  1931633  novel_mapped_tx  Scaffold13     1884154   \n",
       "\n",
       "   chromEnd            name  score strand  thickStart  thickEnd itemRgb  \\\n",
       "0   1895398  TCONS_00041588      0      -     1884154   1895586   0,0,0   \n",
       "1   1895398  TCONS_00041590      0      -     1885040   1895401   0,0,0   \n",
       "2   1895398  TCONS_00041591      0      -     1884154   1895401   0,0,0   \n",
       "3   1891292  TCONS_00041593      0      -     1884154   1891292   0,0,0   \n",
       "4   1885040  TCONS_00041588      0      -     1884154   1895586   0,0,0   \n",
       "\n",
       "   blockCount                                         blockSizes  \\\n",
       "0          20  147,59,13,131,39,17,48,121,62,1341,2182,1346,1...   \n",
       "1           8                    3399,1346,10,1109,651,346,4,13,   \n",
       "2          18  147,59,13,131,39,17,48,121,62,1341,2182,1346,1...   \n",
       "3          15  147,59,13,131,39,17,48,121,62,1341,2182,1346,1...   \n",
       "4          20  147,59,13,131,39,17,48,121,62,1341,2182,1346,1...   \n",
       "\n",
       "                                         blockStarts  distance  \n",
       "0  1884154,1884302,1884365,1884378,1884513,188455...    -36235  \n",
       "1  1885040,1888446,1889798,1889808,1894384,189503...    -36235  \n",
       "2  1884154,1884302,1884365,1884378,1884513,188455...    -36235  \n",
       "3  1884154,1884302,1884365,1884378,1884513,188455...    -40341  \n",
       "4  1884154,1884302,1884365,1884378,1884513,188455...    -46593  "
      ]
     },
     "execution_count": 7,
     "metadata": {},
     "output_type": "execute_result"
    }
   ],
   "source": [
    "orig.head()"
   ]
  },
  {
   "cell_type": "markdown",
   "metadata": {},
   "source": [
    "## Cleaning"
   ]
  },
  {
   "cell_type": "code",
   "execution_count": 8,
   "metadata": {
    "collapsed": false
   },
   "outputs": [],
   "source": [
    "linked_wk = filter_by_distance(df=linked, d=distance)\n",
    "orig_wk = filter_by_distance(df=orig, d=distance)"
   ]
  },
  {
   "cell_type": "code",
   "execution_count": 9,
   "metadata": {
    "collapsed": false
   },
   "outputs": [
    {
     "data": {
      "text/plain": [
       "(47, 17)"
      ]
     },
     "execution_count": 9,
     "metadata": {},
     "output_type": "execute_result"
    }
   ],
   "source": [
    "linked_wk.shape"
   ]
  },
  {
   "cell_type": "code",
   "execution_count": 10,
   "metadata": {
    "collapsed": false
   },
   "outputs": [
    {
     "data": {
      "text/plain": [
       "(36, 17)"
      ]
     },
     "execution_count": 10,
     "metadata": {},
     "output_type": "execute_result"
    }
   ],
   "source": [
    "orig_wk.shape"
   ]
  },
  {
   "cell_type": "markdown",
   "metadata": {},
   "source": [
    "# Comparisons"
   ]
  },
  {
   "cell_type": "code",
   "execution_count": 11,
   "metadata": {
    "collapsed": false
   },
   "outputs": [],
   "source": [
    "# get sets of gene names to compare\n",
    "\n",
    "linked_wk_official_genes = set(linked_wk.query(\"\"\" feature_set_name == 'official_annotations' \"\"\").name)\n",
    "linked_wk_novel_tx = set(linked_wk.query(\"\"\" feature_set_name == 'novel_mapped_tx' \"\"\").name)\n",
    "\n",
    "orig_wk_official_genes = set(orig_wk.query(\"\"\" feature_set_name == 'official_annotations' \"\"\").name)\n",
    "orig_wk_novel_tx = set(orig_wk.query(\"\"\" feature_set_name == 'novel_mapped_tx' \"\"\").name)"
   ]
  },
  {
   "cell_type": "markdown",
   "metadata": {},
   "source": [
    "## Official Genes"
   ]
  },
  {
   "cell_type": "code",
   "execution_count": 12,
   "metadata": {
    "collapsed": false
   },
   "outputs": [],
   "source": [
    "official = set_comparison_table(a=linked_wk_official_genes, \n",
    "                                b=orig_wk_official_genes,\n",
    "                                a_name=\"linked\", \n",
    "                                b_name=\"original\")"
   ]
  },
  {
   "cell_type": "code",
   "execution_count": 13,
   "metadata": {
    "collapsed": false
   },
   "outputs": [
    {
     "data": {
      "text/html": [
       "<div>\n",
       "<table border=\"1\" class=\"dataframe\">\n",
       "  <thead>\n",
       "    <tr style=\"text-align: right;\">\n",
       "      <th></th>\n",
       "      <th>count</th>\n",
       "    </tr>\n",
       "  </thead>\n",
       "  <tbody>\n",
       "    <tr>\n",
       "      <th>linked AND original</th>\n",
       "      <td>0</td>\n",
       "    </tr>\n",
       "    <tr>\n",
       "      <th>linked NOT original</th>\n",
       "      <td>8</td>\n",
       "    </tr>\n",
       "    <tr>\n",
       "      <th>original NOT linked</th>\n",
       "      <td>7</td>\n",
       "    </tr>\n",
       "    <tr>\n",
       "      <th>linked OR original</th>\n",
       "      <td>15</td>\n",
       "    </tr>\n",
       "    <tr>\n",
       "      <th>one OR other NOT both</th>\n",
       "      <td>15</td>\n",
       "    </tr>\n",
       "  </tbody>\n",
       "</table>\n",
       "</div>"
      ],
      "text/plain": [
       "                       count\n",
       "linked AND original        0\n",
       "linked NOT original        8\n",
       "original NOT linked        7\n",
       "linked OR original        15\n",
       "one OR other NOT both     15"
      ]
     },
     "execution_count": 13,
     "metadata": {},
     "output_type": "execute_result"
    }
   ],
   "source": [
    "official['counts']"
   ]
  },
  {
   "cell_type": "code",
   "execution_count": 14,
   "metadata": {
    "collapsed": false
   },
   "outputs": [
    {
     "data": {
      "text/html": [
       "<div>\n",
       "<table border=\"1\" class=\"dataframe\">\n",
       "  <thead>\n",
       "    <tr style=\"text-align: right;\">\n",
       "      <th></th>\n",
       "      <th>linked AND original</th>\n",
       "      <th>linked NOT original</th>\n",
       "      <th>original NOT linked</th>\n",
       "      <th>linked OR original</th>\n",
       "      <th>one OR other NOT both</th>\n",
       "    </tr>\n",
       "  </thead>\n",
       "  <tbody>\n",
       "    <tr>\n",
       "      <th>0</th>\n",
       "      <td>NaN</td>\n",
       "      <td>GFUI016866</td>\n",
       "      <td>GFUI008017</td>\n",
       "      <td>GFUI008017</td>\n",
       "      <td>GFUI008017</td>\n",
       "    </tr>\n",
       "    <tr>\n",
       "      <th>1</th>\n",
       "      <td>NaN</td>\n",
       "      <td>GFUI033037</td>\n",
       "      <td>GFUI008024</td>\n",
       "      <td>GFUI008024</td>\n",
       "      <td>GFUI008024</td>\n",
       "    </tr>\n",
       "    <tr>\n",
       "      <th>2</th>\n",
       "      <td>NaN</td>\n",
       "      <td>GFUI043025</td>\n",
       "      <td>GFUI021833</td>\n",
       "      <td>GFUI016866</td>\n",
       "      <td>GFUI016866</td>\n",
       "    </tr>\n",
       "    <tr>\n",
       "      <th>3</th>\n",
       "      <td>NaN</td>\n",
       "      <td>GFUI043027</td>\n",
       "      <td>GFUI021834</td>\n",
       "      <td>GFUI021833</td>\n",
       "      <td>GFUI021833</td>\n",
       "    </tr>\n",
       "    <tr>\n",
       "      <th>4</th>\n",
       "      <td>NaN</td>\n",
       "      <td>GFUI043030</td>\n",
       "      <td>GFUI021857</td>\n",
       "      <td>GFUI021834</td>\n",
       "      <td>GFUI021834</td>\n",
       "    </tr>\n",
       "    <tr>\n",
       "      <th>5</th>\n",
       "      <td>NaN</td>\n",
       "      <td>GFUI043057</td>\n",
       "      <td>GFUI030827</td>\n",
       "      <td>GFUI021857</td>\n",
       "      <td>GFUI021857</td>\n",
       "    </tr>\n",
       "    <tr>\n",
       "      <th>6</th>\n",
       "      <td>NaN</td>\n",
       "      <td>GFUI043067</td>\n",
       "      <td>GFUI047097</td>\n",
       "      <td>GFUI030827</td>\n",
       "      <td>GFUI030827</td>\n",
       "    </tr>\n",
       "    <tr>\n",
       "      <th>7</th>\n",
       "      <td>NaN</td>\n",
       "      <td>GFUI043720</td>\n",
       "      <td>NaN</td>\n",
       "      <td>GFUI033037</td>\n",
       "      <td>GFUI033037</td>\n",
       "    </tr>\n",
       "    <tr>\n",
       "      <th>8</th>\n",
       "      <td>NaN</td>\n",
       "      <td>NaN</td>\n",
       "      <td>NaN</td>\n",
       "      <td>GFUI043025</td>\n",
       "      <td>GFUI043025</td>\n",
       "    </tr>\n",
       "    <tr>\n",
       "      <th>9</th>\n",
       "      <td>NaN</td>\n",
       "      <td>NaN</td>\n",
       "      <td>NaN</td>\n",
       "      <td>GFUI043027</td>\n",
       "      <td>GFUI043027</td>\n",
       "    </tr>\n",
       "    <tr>\n",
       "      <th>10</th>\n",
       "      <td>NaN</td>\n",
       "      <td>NaN</td>\n",
       "      <td>NaN</td>\n",
       "      <td>GFUI043030</td>\n",
       "      <td>GFUI043030</td>\n",
       "    </tr>\n",
       "    <tr>\n",
       "      <th>11</th>\n",
       "      <td>NaN</td>\n",
       "      <td>NaN</td>\n",
       "      <td>NaN</td>\n",
       "      <td>GFUI043057</td>\n",
       "      <td>GFUI043057</td>\n",
       "    </tr>\n",
       "    <tr>\n",
       "      <th>12</th>\n",
       "      <td>NaN</td>\n",
       "      <td>NaN</td>\n",
       "      <td>NaN</td>\n",
       "      <td>GFUI043067</td>\n",
       "      <td>GFUI043067</td>\n",
       "    </tr>\n",
       "    <tr>\n",
       "      <th>13</th>\n",
       "      <td>NaN</td>\n",
       "      <td>NaN</td>\n",
       "      <td>NaN</td>\n",
       "      <td>GFUI043720</td>\n",
       "      <td>GFUI043720</td>\n",
       "    </tr>\n",
       "    <tr>\n",
       "      <th>14</th>\n",
       "      <td>NaN</td>\n",
       "      <td>NaN</td>\n",
       "      <td>NaN</td>\n",
       "      <td>GFUI047097</td>\n",
       "      <td>GFUI047097</td>\n",
       "    </tr>\n",
       "  </tbody>\n",
       "</table>\n",
       "</div>"
      ],
      "text/plain": [
       "   linked AND original linked NOT original original NOT linked  \\\n",
       "0                  NaN          GFUI016866          GFUI008017   \n",
       "1                  NaN          GFUI033037          GFUI008024   \n",
       "2                  NaN          GFUI043025          GFUI021833   \n",
       "3                  NaN          GFUI043027          GFUI021834   \n",
       "4                  NaN          GFUI043030          GFUI021857   \n",
       "5                  NaN          GFUI043057          GFUI030827   \n",
       "6                  NaN          GFUI043067          GFUI047097   \n",
       "7                  NaN          GFUI043720                 NaN   \n",
       "8                  NaN                 NaN                 NaN   \n",
       "9                  NaN                 NaN                 NaN   \n",
       "10                 NaN                 NaN                 NaN   \n",
       "11                 NaN                 NaN                 NaN   \n",
       "12                 NaN                 NaN                 NaN   \n",
       "13                 NaN                 NaN                 NaN   \n",
       "14                 NaN                 NaN                 NaN   \n",
       "\n",
       "   linked OR original one OR other NOT both  \n",
       "0          GFUI008017            GFUI008017  \n",
       "1          GFUI008024            GFUI008024  \n",
       "2          GFUI016866            GFUI016866  \n",
       "3          GFUI021833            GFUI021833  \n",
       "4          GFUI021834            GFUI021834  \n",
       "5          GFUI021857            GFUI021857  \n",
       "6          GFUI030827            GFUI030827  \n",
       "7          GFUI033037            GFUI033037  \n",
       "8          GFUI043025            GFUI043025  \n",
       "9          GFUI043027            GFUI043027  \n",
       "10         GFUI043030            GFUI043030  \n",
       "11         GFUI043057            GFUI043057  \n",
       "12         GFUI043067            GFUI043067  \n",
       "13         GFUI043720            GFUI043720  \n",
       "14         GFUI047097            GFUI047097  "
      ]
     },
     "execution_count": 14,
     "metadata": {},
     "output_type": "execute_result"
    }
   ],
   "source": [
    "official['genes']"
   ]
  },
  {
   "cell_type": "markdown",
   "metadata": {},
   "source": [
    "## Novel Tx"
   ]
  },
  {
   "cell_type": "code",
   "execution_count": 15,
   "metadata": {
    "collapsed": false
   },
   "outputs": [],
   "source": [
    "novel = set_comparison_table(a=linked_wk_novel_tx, \n",
    "                             b=orig_wk_novel_tx,\n",
    "                             a_name=\"linked\", \n",
    "                             b_name=\"original\")"
   ]
  },
  {
   "cell_type": "code",
   "execution_count": 16,
   "metadata": {
    "collapsed": false
   },
   "outputs": [
    {
     "data": {
      "text/html": [
       "<div>\n",
       "<table border=\"1\" class=\"dataframe\">\n",
       "  <thead>\n",
       "    <tr style=\"text-align: right;\">\n",
       "      <th></th>\n",
       "      <th>count</th>\n",
       "    </tr>\n",
       "  </thead>\n",
       "  <tbody>\n",
       "    <tr>\n",
       "      <th>linked AND original</th>\n",
       "      <td>0</td>\n",
       "    </tr>\n",
       "    <tr>\n",
       "      <th>linked NOT original</th>\n",
       "      <td>3</td>\n",
       "    </tr>\n",
       "    <tr>\n",
       "      <th>original NOT linked</th>\n",
       "      <td>2</td>\n",
       "    </tr>\n",
       "    <tr>\n",
       "      <th>linked OR original</th>\n",
       "      <td>5</td>\n",
       "    </tr>\n",
       "    <tr>\n",
       "      <th>one OR other NOT both</th>\n",
       "      <td>5</td>\n",
       "    </tr>\n",
       "  </tbody>\n",
       "</table>\n",
       "</div>"
      ],
      "text/plain": [
       "                       count\n",
       "linked AND original        0\n",
       "linked NOT original        3\n",
       "original NOT linked        2\n",
       "linked OR original         5\n",
       "one OR other NOT both      5"
      ]
     },
     "execution_count": 16,
     "metadata": {},
     "output_type": "execute_result"
    }
   ],
   "source": [
    "novel['counts']"
   ]
  },
  {
   "cell_type": "code",
   "execution_count": 17,
   "metadata": {
    "collapsed": false
   },
   "outputs": [
    {
     "data": {
      "text/html": [
       "<div>\n",
       "<table border=\"1\" class=\"dataframe\">\n",
       "  <thead>\n",
       "    <tr style=\"text-align: right;\">\n",
       "      <th></th>\n",
       "      <th>linked AND original</th>\n",
       "      <th>linked NOT original</th>\n",
       "      <th>original NOT linked</th>\n",
       "      <th>linked OR original</th>\n",
       "      <th>one OR other NOT both</th>\n",
       "    </tr>\n",
       "  </thead>\n",
       "  <tbody>\n",
       "    <tr>\n",
       "      <th>0</th>\n",
       "      <td>NaN</td>\n",
       "      <td>TCONS_00041812</td>\n",
       "      <td>TCONS_00080293</td>\n",
       "      <td>TCONS_00041812</td>\n",
       "      <td>TCONS_00041812</td>\n",
       "    </tr>\n",
       "    <tr>\n",
       "      <th>1</th>\n",
       "      <td>NaN</td>\n",
       "      <td>TCONS_00041813</td>\n",
       "      <td>TCONS_00080294</td>\n",
       "      <td>TCONS_00041813</td>\n",
       "      <td>TCONS_00041813</td>\n",
       "    </tr>\n",
       "    <tr>\n",
       "      <th>2</th>\n",
       "      <td>NaN</td>\n",
       "      <td>TCONS_00067396</td>\n",
       "      <td>NaN</td>\n",
       "      <td>TCONS_00067396</td>\n",
       "      <td>TCONS_00067396</td>\n",
       "    </tr>\n",
       "    <tr>\n",
       "      <th>3</th>\n",
       "      <td>NaN</td>\n",
       "      <td>NaN</td>\n",
       "      <td>NaN</td>\n",
       "      <td>TCONS_00080293</td>\n",
       "      <td>TCONS_00080293</td>\n",
       "    </tr>\n",
       "    <tr>\n",
       "      <th>4</th>\n",
       "      <td>NaN</td>\n",
       "      <td>NaN</td>\n",
       "      <td>NaN</td>\n",
       "      <td>TCONS_00080294</td>\n",
       "      <td>TCONS_00080294</td>\n",
       "    </tr>\n",
       "  </tbody>\n",
       "</table>\n",
       "</div>"
      ],
      "text/plain": [
       "  linked AND original linked NOT original original NOT linked  \\\n",
       "0                 NaN      TCONS_00041812      TCONS_00080293   \n",
       "1                 NaN      TCONS_00041813      TCONS_00080294   \n",
       "2                 NaN      TCONS_00067396                 NaN   \n",
       "3                 NaN                 NaN                 NaN   \n",
       "4                 NaN                 NaN                 NaN   \n",
       "\n",
       "  linked OR original one OR other NOT both  \n",
       "0     TCONS_00041812        TCONS_00041812  \n",
       "1     TCONS_00041813        TCONS_00041813  \n",
       "2     TCONS_00067396        TCONS_00067396  \n",
       "3     TCONS_00080293        TCONS_00080293  \n",
       "4     TCONS_00080294        TCONS_00080294  "
      ]
     },
     "execution_count": 17,
     "metadata": {},
     "output_type": "execute_result"
    }
   ],
   "source": [
    "novel['genes']"
   ]
  }
 ],
 "metadata": {
  "hide_input": false,
  "kernelspec": {
   "display_name": "gmmgff",
   "language": "python",
   "name": "gmmgff"
  },
  "language_info": {
   "codemirror_mode": {
    "name": "ipython",
    "version": 3
   },
   "file_extension": ".py",
   "mimetype": "text/x-python",
   "name": "python",
   "nbconvert_exporter": "python",
   "pygments_lexer": "ipython3",
   "version": "3.5.2"
  },
  "toc": {
   "toc_cell": false,
   "toc_number_sections": true,
   "toc_threshold": 6,
   "toc_window_display": true
  }
 },
 "nbformat": 4,
 "nbformat_minor": 0
}
